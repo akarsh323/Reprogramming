{
  "metadata": {
    "kernelspec": {
      "name": "ir",
      "display_name": "R",
      "language": "R"
    },
    "language_info": {
      "name": "R",
      "codemirror_mode": "r",
      "pygments_lexer": "r",
      "mimetype": "text/x-r-source",
      "file_extension": ".r",
      "version": "4.0.5"
    },
    "kaggle": {
      "accelerator": "none",
      "dataSources": [
        {
          "sourceId": 2603715,
          "sourceType": "datasetVersion",
          "datasetId": 1582403
        }
      ],
      "isInternetEnabled": false,
      "language": "r",
      "sourceType": "notebook",
      "isGpuEnabled": false
    },
    "colab": {
      "provenance": []
    }
  },
  "nbformat_minor": 0,
  "nbformat": 4,
  "cells": [
    {
      "cell_type": "markdown",
      "source": [
        "# INTRODUCTION"
      ],
      "metadata": {
        "id": "-T02HTD05GXx"
      }
    },
    {
      "cell_type": "markdown",
      "source": [
        "**__ !! If you liked my work, please upvote this kernel. Thank you! __**"
      ],
      "metadata": {
        "id": "ncM_Xw7a5GX0"
      }
    },
    {
      "cell_type": "markdown",
      "source": [
        "In this kernel we'll create four classification models to identify HeartDisease output class:\n",
        "\n",
        "* Logistic Regression\n",
        "* K-Nearest Neighbors\n",
        "* Deicision Tree\n",
        "* Random Forest\n",
        "\n",
        "\n",
        "I'll be using tidymodels package with default model parametrs."
      ],
      "metadata": {
        "id": "F9WHFLTu5GX0"
      }
    },
    {
      "cell_type": "markdown",
      "source": [
        "# DATA LOADING AND PREPROCESSING"
      ],
      "metadata": {
        "id": "rCAwDylJ5GX1"
      }
    },
    {
      "cell_type": "markdown",
      "source": [
        "In this step, we'll\n",
        "1. Load the required libraries\n",
        "2. Load the data\n",
        "3. Display first few rows of the data\n",
        "4. Check for data types\n",
        "5. Check for missing values\n",
        "6. Descriptive statistics for numeric values\n",
        "7. Count unique values for all categorical variables"
      ],
      "metadata": {
        "id": "8CCkhnej5GX1"
      }
    },
    {
      "cell_type": "code",
      "source": [
        "# Load required libraries\n",
        "library(readr)\n",
        "library(dplyr)\n",
        "library(ggplot2)\n",
        "library(GGally)\n",
        "library(scales)\n",
        "library(tidyverse)\n",
        "library(gridExtra)\n",
        "library(tidymodels)\n",
        "library(rsample)\n",
        "library(ggcorrplot)\n",
        "library(recipes)\n",
        "library(parsnip)\n",
        "library(tune)\n",
        "library(yardstick)\n",
        "library(psych)\n",
        "library(caret)"
      ],
      "metadata": {
        "_kg_hide-input": false,
        "_kg_hide-output": true,
        "execution": {
          "iopub.status.busy": "2024-06-02T19:20:34.176857Z",
          "iopub.execute_input": "2024-06-02T19:20:34.17916Z",
          "iopub.status.idle": "2024-06-02T19:20:34.231875Z"
        },
        "jupyter": {
          "source_hidden": true
        },
        "trusted": true,
        "id": "Bf5jwjjW5GX2"
      },
      "execution_count": null,
      "outputs": []
    },
    {
      "cell_type": "code",
      "source": [
        "# Load the dataset\n",
        "heart_data <- read_csv(\"/kaggle/input/heart-failure-prediction/heart.csv\")\n",
        "head(heart_data)"
      ],
      "metadata": {
        "execution": {
          "iopub.status.busy": "2024-06-02T19:20:40.258749Z",
          "iopub.execute_input": "2024-06-02T19:20:40.260678Z",
          "iopub.status.idle": "2024-06-02T19:20:40.401368Z"
        },
        "trusted": true,
        "id": "-dGUS4DD5GX3"
      },
      "execution_count": null,
      "outputs": []
    },
    {
      "cell_type": "code",
      "source": [
        "#Check for data types\n",
        "heart_data %>% glimpse()"
      ],
      "metadata": {
        "execution": {
          "iopub.status.busy": "2024-06-17T10:08:45.993152Z",
          "iopub.execute_input": "2024-06-17T10:08:45.995478Z",
          "iopub.status.idle": "2024-06-17T10:08:46.127681Z"
        },
        "trusted": true,
        "id": "OrD4CAQ35GX3",
        "outputId": "3dbb9b92-b58f-4504-d331-9481102977ac"
      },
      "execution_count": null,
      "outputs": [
        {
          "ename": "ERROR",
          "evalue": "Error in heart_data %>% glimpse(): could not find function \"%>%\"\n",
          "traceback": [
            "Error in heart_data %>% glimpse(): could not find function \"%>%\"\nTraceback:\n"
          ],
          "output_type": "error"
        }
      ]
    },
    {
      "cell_type": "code",
      "source": [
        "#Check for missing values\n",
        "heart_data %>%\n",
        "  summarise(across(everything(), ~ sum(is.na(.x))))"
      ],
      "metadata": {
        "execution": {
          "iopub.status.busy": "2024-06-02T19:20:48.86491Z",
          "iopub.execute_input": "2024-06-02T19:20:48.866781Z",
          "iopub.status.idle": "2024-06-02T19:20:48.935239Z"
        },
        "trusted": true,
        "id": "Ik2w087v5GX4"
      },
      "execution_count": null,
      "outputs": []
    },
    {
      "cell_type": "code",
      "source": [
        "#Descriptive statistics for numberic values\n",
        "heart_data %>%\n",
        "  select(where(is.numeric)) %>%\n",
        "  describe()"
      ],
      "metadata": {
        "execution": {
          "iopub.status.busy": "2024-06-02T19:20:54.501361Z",
          "iopub.execute_input": "2024-06-02T19:20:54.503354Z",
          "iopub.status.idle": "2024-06-02T19:20:54.557679Z"
        },
        "trusted": true,
        "id": "ZKdmOz3H5GX4"
      },
      "execution_count": null,
      "outputs": []
    },
    {
      "cell_type": "code",
      "source": [
        "# Count unique values for categorical variables\n",
        "heart_data %>%\n",
        "  summarise(across(where(is.character), n_distinct))"
      ],
      "metadata": {
        "execution": {
          "iopub.status.busy": "2024-06-02T19:20:59.341951Z",
          "iopub.execute_input": "2024-06-02T19:20:59.343773Z",
          "iopub.status.idle": "2024-06-02T19:20:59.384818Z"
        },
        "trusted": true,
        "id": "UH3u4xvL5GX4"
      },
      "execution_count": null,
      "outputs": []
    },
    {
      "cell_type": "markdown",
      "source": [
        "In the first step of the analysis, we loaded the necessary R libraries and the dataset. We discovered that the dataset comprises 918 rows and 12 variables, including 5 categorical and the remainder numeric. There were no missing values, which simplified our initial data preparation. By examining the first few rows and calculating descriptive statistics for numeric values, we gained a foundational understanding of the data's distribution. We also counted the unique entries for categorical variables, providing insights into the diversity of the dataset."
      ],
      "metadata": {
        "id": "YMgiMftA5GX4"
      }
    },
    {
      "cell_type": "markdown",
      "source": [
        "# EXPLORATORY DATA ANALYSIS"
      ],
      "metadata": {
        "id": "8MxD-vc85GX5"
      }
    },
    {
      "cell_type": "markdown",
      "source": [
        "In this step, we'll do:\n",
        "1. Distribution of numeric values\n",
        "2. Counts of categorical values\n",
        "3. Check for outliers (with box plots)\n",
        "4. Correlation plot\n",
        "5. Distribution of the target varibale"
      ],
      "metadata": {
        "id": "abNbHnEj5GX5"
      }
    },
    {
      "cell_type": "code",
      "source": [
        "# Create distribution plots for numeric variables\n",
        "options(repr.plot.width=12, repr.plot.height=7)\n",
        "\n",
        "heart_data %>%\n",
        "  select(where(is.numeric)) %>%\n",
        "  select(-HeartDisease) %>%\n",
        "  pivot_longer(cols = everything(), names_to = \"variable\", values_to = \"value\") %>%\n",
        "  ggplot(aes(x = value, fill = variable)) +\n",
        "  facet_wrap(~ variable, scales = \"free\") +\n",
        "  geom_histogram(bins = 30, alpha = 0.7) +\n",
        "  labs(title = \"Distribution Plots for Numeric Variables\") +\n",
        "  scale_fill_viridis_d() +\n",
        "  theme_minimal() +\n",
        "  guides(fill = \"none\")"
      ],
      "metadata": {
        "execution": {
          "iopub.status.busy": "2024-06-02T19:23:02.27069Z",
          "iopub.execute_input": "2024-06-02T19:23:02.272857Z",
          "iopub.status.idle": "2024-06-02T19:23:03.305525Z"
        },
        "trusted": true,
        "id": "xKPQBP4b5GX5"
      },
      "execution_count": null,
      "outputs": []
    },
    {
      "cell_type": "code",
      "source": [
        "# Create plots for categorical variables\n",
        "heart_data %>%\n",
        "  select(where(is.character)) %>%\n",
        "  pivot_longer(cols = everything(), names_to = \"variable\", values_to = \"value\") %>%\n",
        "  ggplot(aes(x = value, fill = variable)) +\n",
        "  facet_wrap(~ variable, scales = \"free\") +\n",
        "  geom_bar() +\n",
        "  labs(title = \"Distribution Plots for Categorical Variables\") +\n",
        "  scale_fill_viridis_d() +\n",
        "  theme_minimal() +\n",
        "  guides(fill = \"none\")"
      ],
      "metadata": {
        "execution": {
          "iopub.status.busy": "2024-06-02T19:23:11.402182Z",
          "iopub.execute_input": "2024-06-02T19:23:11.404234Z",
          "iopub.status.idle": "2024-06-02T19:23:12.230418Z"
        },
        "trusted": true,
        "id": "NN0ta8QK5GX5"
      },
      "execution_count": null,
      "outputs": []
    },
    {
      "cell_type": "code",
      "source": [
        "# Create box plots for numeric variables by the 'HeartDisease' category\n",
        "heart_data %>%\n",
        "  mutate(HeartDisease = factor(HeartDisease)) %>%\n",
        "  select(HeartDisease, where(is.numeric)) %>%\n",
        "  pivot_longer(cols = where(is.numeric), names_to = \"variable\", values_to = \"value\") %>%\n",
        "  ggplot(aes(x = HeartDisease, y = value, fill = HeartDisease)) +\n",
        "  geom_boxplot() +\n",
        "  facet_wrap(~ variable, scales = \"free\") +\n",
        "  labs(x = \"Heart Disease\", y = \"Value\", title = \"Box Plots for Numeric Variables by Heart Disease\") +\n",
        "  scale_fill_viridis_d() +\n",
        "  theme_minimal()"
      ],
      "metadata": {
        "execution": {
          "iopub.status.busy": "2024-06-02T19:23:23.175659Z",
          "iopub.execute_input": "2024-06-02T19:23:23.177469Z",
          "iopub.status.idle": "2024-06-02T19:23:24.824455Z"
        },
        "trusted": true,
        "id": "iZYpWpwy5GX5"
      },
      "execution_count": null,
      "outputs": []
    },
    {
      "cell_type": "code",
      "source": [
        "# Find correlated variables\n",
        "heart_data %>%\n",
        "  select_if(is.numeric) %>%\n",
        "  cor()\n",
        "\n",
        "# Correlation plot\n",
        "heart_data %>%\n",
        "  select_if(is.numeric) %>%\n",
        "  ggcorr(label = TRUE, label_size = 3)"
      ],
      "metadata": {
        "execution": {
          "iopub.status.busy": "2024-06-02T19:23:34.652987Z",
          "iopub.execute_input": "2024-06-02T19:23:34.672131Z",
          "iopub.status.idle": "2024-06-02T19:23:35.116399Z"
        },
        "trusted": true,
        "id": "vCvu01WG5GX6"
      },
      "execution_count": null,
      "outputs": []
    },
    {
      "cell_type": "code",
      "source": [
        "# Create distribution of HeartDisease\n",
        "options(repr.plot.width=7, repr.plot.height=7)\n",
        "\n",
        "ggplot(heart_data, aes(x = factor(HeartDisease), fill = factor(HeartDisease))) +\n",
        "  geom_bar() +\n",
        "  labs(x = \"HeartDisease\", y = \"Count\", fill = \"HeartDisease\", title = \"Distribution of HeartDisease\") +\n",
        "  scale_fill_viridis_d() +\n",
        "  theme_minimal()"
      ],
      "metadata": {
        "execution": {
          "iopub.status.busy": "2024-06-02T19:23:54.460517Z",
          "iopub.execute_input": "2024-06-02T19:23:54.462284Z",
          "iopub.status.idle": "2024-06-02T19:23:54.889816Z"
        },
        "trusted": true,
        "id": "RuKQPGFj5GX6"
      },
      "execution_count": null,
      "outputs": []
    },
    {
      "cell_type": "markdown",
      "source": [
        "**Distribution of Numeric Values:** indicate that 'Age' and 'MaxHR' variables have a fairly normal distribution. The other variable shows a skewed distribution.\n",
        "\n",
        "**Counts of Categorical Values:** The bar charts for categorical data reveal that certain categories dominate, like the 'ASY' (asymptomatic) type of chest pain and a higher prevalence of male patients. These imbalances may influence the model's performance and should be considered in analysis and model training.\n",
        "\n",
        "**Outlier Detection:** The box plots show that most of the numerical variables have outliers. These outliers may represent atypical cases or errors in data entry. However, they could also indicate true extremes that are clinically significant.\n",
        "\n",
        "**Correlation Plot:** The correlation heatmap suggests some variables have a moderate positive or negative correlation with the occurrence of heart disease. For instance, 'Oldpeak' shows a positive correlation with the presence of heart disease, whereas 'MaxHR' appears to have a negative correlation. There are no highly correlated variables to be removed on feature ingineering step.\n",
        "\n",
        "**Distribution of the Target Variable ('HeartDisease'):** The final bar chart highlights a slight imbalance in the distribution of the target variable, with a larger number of patients not having heart disease compared to those who do. This suggests the need for careful consideration of class distribution when training predictive models to ensure they are not biased towards the majority class.\n",
        "\n",
        "By interpreting these insights, we can make informed decisions on data preprocessing, such as outlier treatment and feature selection, which will ultimately contribute to building a more accurate heart failure prediction model."
      ],
      "metadata": {
        "id": "5yygojfp5GX6"
      }
    },
    {
      "cell_type": "markdown",
      "source": [
        "# DATA PREPARATION"
      ],
      "metadata": {
        "id": "F7eG-xr_5GX6"
      }
    },
    {
      "cell_type": "markdown",
      "source": [
        "In this step we'll:\n",
        "1. Convert the outcome variable to a factor type\n",
        "2. Split the data to training and test sets\n",
        "3. Normalize the data\n",
        "4. Create dummy variables"
      ],
      "metadata": {
        "id": "i3NlG4T65GX6"
      }
    },
    {
      "cell_type": "code",
      "source": [
        "# Convert outcome variable to factor and check the order\n",
        "heart_data$HeartDisease <- as.factor(heart_data$HeartDisease)\n",
        "levels(heart_data[['HeartDisease']])"
      ],
      "metadata": {
        "execution": {
          "iopub.status.busy": "2024-06-02T19:26:54.345403Z",
          "iopub.execute_input": "2024-06-02T19:26:54.347896Z",
          "iopub.status.idle": "2024-06-02T19:26:54.374761Z"
        },
        "trusted": true,
        "id": "D7DfpGb55GX6"
      },
      "execution_count": null,
      "outputs": []
    },
    {
      "cell_type": "code",
      "source": [
        "# Split data to training and test sets\n",
        "heart_split <- initial_split(heart_data,\n",
        "                            prop = 0.7,\n",
        "                            strata = HeartDisease)\n",
        "\n",
        "heart_training <- heart_split %>% training()\n",
        "heart_test <- heart_split %>% testing()\n",
        "\n",
        "nrow(heart_training)\n",
        "nrow(heart_test)"
      ],
      "metadata": {
        "execution": {
          "iopub.status.busy": "2024-06-02T19:27:51.172354Z",
          "iopub.execute_input": "2024-06-02T19:27:51.17449Z",
          "iopub.status.idle": "2024-06-02T19:27:51.228313Z"
        },
        "trusted": true,
        "id": "x-TBeFGL5GX7"
      },
      "execution_count": null,
      "outputs": []
    },
    {
      "cell_type": "code",
      "source": [
        "# Normalize and remove corelated numeric variables and create dummy for nominal variables\n",
        "heart_recipe <- recipe(HeartDisease~.,\n",
        "                      data = heart_training) %>%\n",
        "    step_corr(all_numeric(), threshold = 0.8) %>%\n",
        "    step_normalize(all_numeric()) %>%\n",
        "    step_dummy(all_nominal(),-all_outcomes())\n",
        "\n",
        "heart_recipe"
      ],
      "metadata": {
        "_kg_hide-output": true,
        "execution": {
          "iopub.status.busy": "2024-06-02T19:27:55.899017Z",
          "iopub.execute_input": "2024-06-02T19:27:55.90112Z",
          "iopub.status.idle": "2024-06-02T19:27:56.115783Z"
        },
        "trusted": true,
        "id": "2eKuuUu85GX7"
      },
      "execution_count": null,
      "outputs": []
    },
    {
      "cell_type": "code",
      "source": [
        "# Apply transformation recipe to training and test sets\n",
        "heart_recipe_prep <- heart_recipe %>%\n",
        "    prep(training = heart_training)\n",
        "\n",
        "heart_training_prep <- heart_recipe_prep %>%\n",
        "    bake(new_data = NULL)\n",
        "\n",
        "heart_test_prep <- heart_recipe_prep %>%\n",
        "    bake(new_data = heart_test)\n",
        "\n",
        "head(heart_training_prep)"
      ],
      "metadata": {
        "execution": {
          "iopub.status.busy": "2024-06-02T19:28:01.165917Z",
          "iopub.execute_input": "2024-06-02T19:28:01.168206Z",
          "iopub.status.idle": "2024-06-02T19:28:01.397383Z"
        },
        "trusted": true,
        "id": "WjtymFQ35GX7"
      },
      "execution_count": null,
      "outputs": []
    },
    {
      "cell_type": "markdown",
      "source": [
        "Now the data is ready for modeling."
      ],
      "metadata": {
        "id": "m71H8iTe5GX7"
      }
    },
    {
      "cell_type": "markdown",
      "source": [
        "# MODELS TRAINING AND RESULTS"
      ],
      "metadata": {
        "id": "BMdu7KGK5GX7"
      }
    },
    {
      "cell_type": "markdown",
      "source": [
        "Now, we'll create 4 predictive models with default parameters."
      ],
      "metadata": {
        "id": "SQIjbaPp5GX7"
      }
    },
    {
      "cell_type": "markdown",
      "source": [
        "**Logistic Regression Model**"
      ],
      "metadata": {
        "id": "aW_bJKCG5GX7"
      }
    },
    {
      "cell_type": "code",
      "source": [
        "# Logistic regression model setup\n",
        "glm_model <- logistic_reg() %>%\n",
        "    set_engine('glm') %>%\n",
        "    set_mode('classification')\n",
        "\n",
        "glm_fit <- glm_model %>%\n",
        "    fit(HeartDisease ~.,\n",
        "       data = heart_training_prep)\n",
        "\n",
        "glm_fit"
      ],
      "metadata": {
        "execution": {
          "iopub.status.busy": "2024-06-02T19:49:23.497376Z",
          "iopub.execute_input": "2024-06-02T19:49:23.4997Z",
          "iopub.status.idle": "2024-06-02T19:49:23.561874Z"
        },
        "trusted": true,
        "id": "AXlv3yow5GX7"
      },
      "execution_count": null,
      "outputs": []
    },
    {
      "cell_type": "code",
      "source": [
        "# Logistic regression model predictions on test data\n",
        "glm_class_pred <- predict(glm_fit,\n",
        "                         new_data = heart_test_prep,\n",
        "                         type = 'class')\n",
        "\n",
        "glm_prob_pred <- predict(glm_fit,\n",
        "                         new_data = heart_test_prep,\n",
        "                         type = 'prob')\n",
        "\n",
        "glm_results <- heart_test %>%\n",
        "    select(HeartDisease) %>%\n",
        "    bind_cols(glm_class_pred, glm_prob_pred)\n",
        "\n",
        "# Performance metrics for logistic regression model\n",
        "conf_mat(glm_results,\n",
        "        truth = HeartDisease,\n",
        "        estimate = .pred_class)\n",
        "\n",
        "glm_metric_spec <-\n",
        "    metric_set(accuracy, sens, spec, roc_auc)\n",
        "\n",
        "glm_metrics <- glm_metric_spec(glm_results,\n",
        "                              truth = HeartDisease,\n",
        "                              estimate = .pred_class, .pred_0)\n",
        "glm_metrics\n",
        "\n",
        "# Logistic regression model ROC Curve\n",
        "glm_results %>%\n",
        "    roc_curve(truth = HeartDisease, .pred_0) %>%\n",
        "    autoplot()"
      ],
      "metadata": {
        "execution": {
          "iopub.status.busy": "2024-06-02T19:49:29.19024Z",
          "iopub.execute_input": "2024-06-02T19:49:29.192084Z",
          "iopub.status.idle": "2024-06-02T19:49:29.529958Z"
        },
        "trusted": true,
        "id": "-zfS_LYA5GX8"
      },
      "execution_count": null,
      "outputs": []
    },
    {
      "cell_type": "markdown",
      "source": [
        "The Logistic Regression Model showed:\n",
        "* accuracy of 0.8478261\n",
        "* sensitivity of 0.8536585\n",
        "* specificity of 0.8431373\n",
        "* roc_auc of 0.9207716"
      ],
      "metadata": {
        "id": "3QAdKAaV5GX8"
      }
    },
    {
      "cell_type": "markdown",
      "source": [
        "**K-Nearest Neighbors**"
      ],
      "metadata": {
        "id": "JYA6Ps_05GX8"
      }
    },
    {
      "cell_type": "code",
      "source": [
        "# K-nearest neighbors model\n",
        "knn_model <- nearest_neighbor() %>%\n",
        "    set_engine('kknn') %>%\n",
        "    set_mode('classification')\n",
        "\n",
        "knn_fit <- knn_model %>%\n",
        "    fit(HeartDisease~.,\n",
        "       data = heart_training_prep)\n",
        "\n",
        "knn_fit"
      ],
      "metadata": {
        "execution": {
          "iopub.status.busy": "2024-06-02T19:49:42.47792Z",
          "iopub.execute_input": "2024-06-02T19:49:42.480619Z",
          "iopub.status.idle": "2024-06-02T19:49:42.568819Z"
        },
        "trusted": true,
        "id": "M19kIum45GX8"
      },
      "execution_count": null,
      "outputs": []
    },
    {
      "cell_type": "code",
      "source": [
        "# K-nearest neighbors model predictions on test data\n",
        "knn_class_pred <- predict(knn_fit,\n",
        "                         new_data = heart_test_prep,\n",
        "                         type = 'class')\n",
        "\n",
        "knn_prob_pred <- predict(knn_fit,\n",
        "                         new_data = heart_test_prep,\n",
        "                         type = 'prob')\n",
        "\n",
        "knn_results <- heart_test %>%\n",
        "    select(HeartDisease) %>%\n",
        "    bind_cols(knn_class_pred, knn_prob_pred)\n",
        "\n",
        "# Performance metrics for K-nearest neighbors model\n",
        "conf_mat(knn_results,\n",
        "        truth = HeartDisease,\n",
        "        estimate = .pred_class)\n",
        "\n",
        "knn_metric_spec <-\n",
        "    metric_set(accuracy, sens, spec, roc_auc)\n",
        "\n",
        "knn_metrics <- knn_metric_spec(knn_results,\n",
        "                              truth = HeartDisease,\n",
        "                              estimate = .pred_class, .pred_0)\n",
        "knn_metrics\n",
        "\n",
        "# Logistic regression model ROC Curve\n",
        "knn_results %>%\n",
        "    roc_curve(truth = HeartDisease, .pred_0) %>%\n",
        "    autoplot()"
      ],
      "metadata": {
        "execution": {
          "iopub.status.busy": "2024-06-02T19:49:47.700405Z",
          "iopub.execute_input": "2024-06-02T19:49:47.702532Z",
          "iopub.status.idle": "2024-06-02T19:49:48.118017Z"
        },
        "trusted": true,
        "id": "iTeuzFiy5GX9"
      },
      "execution_count": null,
      "outputs": []
    },
    {
      "cell_type": "markdown",
      "source": [
        "The K-Nearest Neighbors Model showed:\n",
        "* accuracy of 0.8550725\n",
        "* sensitivity of 0.8536585\n",
        "* specificity of 0.8562092\n",
        "* roc_auc of 0.9038737"
      ],
      "metadata": {
        "id": "NjliVJyw5GX9"
      }
    },
    {
      "cell_type": "markdown",
      "source": [
        "**Decision Trees Model**"
      ],
      "metadata": {
        "id": "kUrxRNzD5GX9"
      }
    },
    {
      "cell_type": "code",
      "source": [
        "# Decision tree model\n",
        "dt_model <- decision_tree() %>%\n",
        "    set_engine('rpart') %>%\n",
        "    set_mode('classification')\n",
        "\n",
        "dt_fit <- dt_model %>%\n",
        "    fit(HeartDisease~.,\n",
        "       data = heart_training_prep)\n",
        "\n",
        "dt_fit"
      ],
      "metadata": {
        "execution": {
          "iopub.status.busy": "2024-06-02T19:45:38.626663Z",
          "iopub.execute_input": "2024-06-02T19:45:38.628759Z",
          "iopub.status.idle": "2024-06-02T19:45:38.746164Z"
        },
        "trusted": true,
        "id": "95cxc5oH5GX9"
      },
      "execution_count": null,
      "outputs": []
    },
    {
      "cell_type": "code",
      "source": [
        "# Decision tree model predictions on test data\n",
        "dt_class_pred <- predict(dt_fit,\n",
        "                         new_data = heart_test_prep,\n",
        "                         type = 'class')\n",
        "\n",
        "dt_prob_pred <- predict(dt_fit,\n",
        "                         new_data = heart_test_prep,\n",
        "                         type = 'prob')\n",
        "\n",
        "dt_results <- heart_test %>%\n",
        "    select(HeartDisease) %>%\n",
        "    bind_cols(dt_class_pred, dt_prob_pred)\n",
        "\n",
        "\n",
        "# Performance metrics for decision tree model\n",
        "conf_mat(dt_results,\n",
        "        truth = HeartDisease,\n",
        "        estimate = .pred_class)\n",
        "\n",
        "dt_metric_spec <-\n",
        "    metric_set(accuracy, sens, spec, roc_auc)\n",
        "\n",
        "dt_metrics <- dt_metric_spec(dt_results,\n",
        "                              truth = HeartDisease,\n",
        "                              estimate = .pred_class, .pred_0)\n",
        "dt_metrics\n",
        "\n",
        "# Decision tree model ROC Curve\n",
        "dt_results %>%\n",
        "    roc_curve(truth = HeartDisease, .pred_0) %>%\n",
        "    autoplot()"
      ],
      "metadata": {
        "execution": {
          "iopub.status.busy": "2024-06-02T19:48:42.112031Z",
          "iopub.execute_input": "2024-06-02T19:48:42.113993Z",
          "iopub.status.idle": "2024-06-02T19:48:42.537873Z"
        },
        "trusted": true,
        "id": "Aaa8TEvL5GX-"
      },
      "execution_count": null,
      "outputs": []
    },
    {
      "cell_type": "markdown",
      "source": [
        "The Decision Tree Model showed:\n",
        "\n",
        "* accuracy of 0.8514493\n",
        "* sensitivity of 0.8211382\n",
        "* specificity of 0.8758170\n",
        "* roc_auc of 0.8815824"
      ],
      "metadata": {
        "id": "lVEVm1i45GX-"
      }
    },
    {
      "cell_type": "markdown",
      "source": [
        "Random Forest Models"
      ],
      "metadata": {
        "id": "xUbjnB4u5GX-"
      }
    },
    {
      "cell_type": "code",
      "source": [
        "# Random forest model\n",
        "rf_model <- rand_forest() %>%\n",
        "    set_engine('ranger') %>%\n",
        "    set_mode('classification')\n",
        "\n",
        "rf_fit <- rf_model %>%\n",
        "    fit(HeartDisease~.,\n",
        "       data = heart_training_prep)\n",
        "\n",
        "rf_fit"
      ],
      "metadata": {
        "execution": {
          "iopub.status.busy": "2024-06-02T19:47:11.643938Z",
          "iopub.execute_input": "2024-06-02T19:47:11.645798Z",
          "iopub.status.idle": "2024-06-02T19:47:11.95831Z"
        },
        "trusted": true,
        "id": "7WHWC3SK5GX_"
      },
      "execution_count": null,
      "outputs": []
    },
    {
      "cell_type": "code",
      "source": [
        "# Random forest model predictions on test data\n",
        "rf_class_pred <- predict(rf_fit,\n",
        "                         new_data = heart_test_prep,\n",
        "                         type = 'class')\n",
        "\n",
        "rf_prob_pred <- predict(rf_fit,\n",
        "                         new_data = heart_test_prep,\n",
        "                         type = 'prob')\n",
        "\n",
        "rf_results <- heart_test %>%\n",
        "    select(HeartDisease) %>%\n",
        "    bind_cols(rf_class_pred, rf_prob_pred)\n",
        "\n",
        "# Performance metrics for random forest model\n",
        "conf_mat(rf_results,\n",
        "        truth = HeartDisease,\n",
        "        estimate = .pred_class)\n",
        "\n",
        "rf_metric_spec <-\n",
        "    metric_set(accuracy, sens, spec, roc_auc)\n",
        "\n",
        "rf_metrics <- rf_metric_spec(rf_results,\n",
        "                              truth = HeartDisease,\n",
        "                              estimate = .pred_class, .pred_0)\n",
        "rf_metrics\n",
        "\n",
        "# Decision tree model ROC Curve\n",
        "rf_results %>%\n",
        "    roc_curve(truth = HeartDisease, .pred_0) %>%\n",
        "    autoplot()"
      ],
      "metadata": {
        "execution": {
          "iopub.status.busy": "2024-06-02T19:48:49.399779Z",
          "iopub.execute_input": "2024-06-02T19:48:49.401553Z",
          "iopub.status.idle": "2024-06-02T19:48:49.93581Z"
        },
        "trusted": true,
        "id": "MPfB8Fco5GX_"
      },
      "execution_count": null,
      "outputs": []
    },
    {
      "cell_type": "markdown",
      "source": [
        "The Random Forest Model showed:\n",
        "\n",
        "* accuracy of 0.8659420\n",
        "* sensitivity of 0.8373984\n",
        "* specificity of 0.8888889\n",
        "* roc_auc of 0.9267761"
      ],
      "metadata": {
        "id": "gYusJRM85GX_"
      }
    },
    {
      "cell_type": "markdown",
      "source": [
        "# MODELS PERFORMANCE COMPARISON"
      ],
      "metadata": {
        "id": "6Mj3yu6V5GYA"
      }
    },
    {
      "cell_type": "code",
      "source": [
        "# Model results comparison\n",
        "combined_metrics <- bind_cols(\n",
        "    select(glm_metrics, .metric),\n",
        "    select(glm_metrics, .estimate) %>% rename(glm_results = .estimate),\n",
        "    rename(select(knn_metrics, .estimate), knn_results = .estimate),\n",
        "    rename(select(dt_metrics, .estimate), dt_results = .estimate),\n",
        "    rename(select(rf_metrics, .estimate), rf_results = .estimate)\n",
        ")\n",
        "\n",
        "combined_metrics"
      ],
      "metadata": {
        "execution": {
          "iopub.status.busy": "2024-06-02T19:48:54.51824Z",
          "iopub.execute_input": "2024-06-02T19:48:54.520433Z",
          "iopub.status.idle": "2024-06-02T19:48:54.607422Z"
        },
        "trusted": true,
        "id": "JSG6lCl_5GYA"
      },
      "execution_count": null,
      "outputs": []
    },
    {
      "cell_type": "code",
      "source": [
        "# Reshape data from wide to long format\n",
        "combined_metrics_long <- pivot_longer(combined_metrics,\n",
        "                                      cols = c(glm_results,knn_results, dt_results, rf_results),\n",
        "                                      names_to = \"model\", values_to = \"value\")\n",
        "\n",
        "options(repr.plot.width=12, repr.plot.height=10)\n",
        "\n",
        "# Create faceted bar plots\n",
        "ggplot(combined_metrics_long, aes(x = model, y = value, fill = model)) +\n",
        "    geom_bar(stat = \"identity\", position = \"dodge\") +\n",
        "    facet_wrap(~.metric, scales = \"free_y\") +\n",
        "    labs(x = \"Model\", y = \"Value\", fill = \"Model\") +\n",
        "    scale_fill_viridis_d() +\n",
        "    theme_minimal() +\n",
        "    guides(fill = \"none\")"
      ],
      "metadata": {
        "execution": {
          "iopub.status.busy": "2024-06-02T19:50:26.628485Z",
          "iopub.execute_input": "2024-06-02T19:50:26.630921Z",
          "iopub.status.idle": "2024-06-02T19:50:27.328156Z"
        },
        "trusted": true,
        "id": "UDUW15cM5GYA"
      },
      "execution_count": null,
      "outputs": []
    },
    {
      "cell_type": "markdown",
      "source": [
        "# CONCLUSION"
      ],
      "metadata": {
        "id": "ID_aGwTw5GYA"
      }
    },
    {
      "cell_type": "markdown",
      "source": [
        "The goal of this kernel was to determine what models are the best performing on 'Heart Failure' dataset.\n",
        "\n",
        "Overall, the Random Forest model showed the best results in terms of accuracy, specificity and AUROC.\n",
        "\n",
        "The Logistic Regression and KNN Models showed the highest sensitivity numbers.\n"
      ],
      "metadata": {
        "id": "faihqukV5GYA"
      }
    }
  ]
}